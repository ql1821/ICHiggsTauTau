{
 "cells": [
  {
   "cell_type": "code",
   "execution_count": 1,
   "metadata": {},
   "outputs": [],
   "source": [
    "# In this example we will train 2 BDTs to differentiate between a CP-even and a CP-odd Higgs for the rhorho channel\n",
    "# One BDT will use only 1 variable analogous to current methodology, the second BDT will include additional information\n",
    "# to help improve the seperation "
   ]
  },
  {
   "cell_type": "code",
   "execution_count": 2,
   "metadata": {
    "scrolled": true
   },
   "outputs": [
    {
     "name": "stdout",
     "output_type": "stream",
     "text": [
      "Requirement already satisfied: scipy in /cvmfs/sft.cern.ch/lcg/views/LCG_102swan/x86_64-centos7-gcc11-opt/lib/python3.9/site-packages (1.8.0)\r\n",
      "Requirement already satisfied: numpy<1.25.0,>=1.17.3 in /cvmfs/sft.cern.ch/lcg/views/LCG_102swan/x86_64-centos7-gcc11-opt/lib/python3.9/site-packages (from scipy) (1.22.3)\r\n"
     ]
    }
   ],
   "source": [
    "!pip install --user scipy"
   ]
  },
  {
   "cell_type": "code",
   "execution_count": 3,
   "metadata": {},
   "outputs": [
    {
     "name": "stdout",
     "output_type": "stream",
     "text": [
      "Requirement already satisfied: uproot in /cvmfs/sft.cern.ch/lcg/views/LCG_102swan/x86_64-centos7-gcc11-opt/lib/python3.9/site-packages (4.2.0)\n",
      "Requirement already satisfied: numpy in /cvmfs/sft.cern.ch/lcg/views/LCG_102swan/x86_64-centos7-gcc11-opt/lib/python3.9/site-packages (from uproot) (1.22.3)\n",
      "Requirement already satisfied: setuptools in /cvmfs/sft.cern.ch/lcg/views/LCG_102swan/x86_64-centos7-gcc11-opt/lib/python3.9/site-packages (from uproot) (57.1.0)\n",
      "Requirement already satisfied: vector in /eos/home-q/qintong/.local/lib/python3.9/site-packages (0.8.5)\n",
      "Requirement already satisfied: numpy>=1.13.3 in /cvmfs/sft.cern.ch/lcg/views/LCG_102swan/x86_64-centos7-gcc11-opt/lib/python3.9/site-packages (from vector) (1.22.3)\n",
      "Requirement already satisfied: packaging>=19.0 in /cvmfs/sft.cern.ch/lcg/views/LCG_102swan/x86_64-centos7-gcc11-opt/lib/python3.9/site-packages (from vector) (21.3)\n",
      "Requirement already satisfied: pyparsing!=3.0.5,>=2.0.2 in /cvmfs/sft.cern.ch/lcg/views/LCG_102swan/x86_64-centos7-gcc11-opt/lib/python3.9/site-packages (from packaging>=19.0->vector) (3.0.9)\n",
      "Requirement already satisfied: awkward in /eos/home-q/qintong/.local/lib/python3.9/site-packages (1.9.0)\n",
      "Requirement already satisfied: numpy>=1.13.1 in /cvmfs/sft.cern.ch/lcg/views/LCG_102swan/x86_64-centos7-gcc11-opt/lib/python3.9/site-packages (from awkward) (1.22.3)\n",
      "Requirement already satisfied: setuptools in /cvmfs/sft.cern.ch/lcg/views/LCG_102swan/x86_64-centos7-gcc11-opt/lib/python3.9/site-packages (from awkward) (57.1.0)\n"
     ]
    }
   ],
   "source": [
    "!pip install --user uproot\n",
    "!pip install --user vector \n",
    "!pip install --user --upgrade awkward\n",
    "\n",
    "import sys\n",
    "sys.path.append(\"/eos/home-m/qintong/.local/lib/python2.7/site-packages\")"
   ]
  },
  {
   "cell_type": "code",
   "execution_count": 4,
   "metadata": {
    "scrolled": true
   },
   "outputs": [],
   "source": [
    "# !pip list"
   ]
  },
  {
   "cell_type": "code",
   "execution_count": 5,
   "metadata": {},
   "outputs": [
    {
     "name": "stderr",
     "output_type": "stream",
     "text": [
      "/cvmfs/sft.cern.ch/lcg/views/LCG_102swan/x86_64-centos7-gcc11-opt/lib/python3.9/site-packages/uproot3/__init__.py:127: FutureWarning: Consider switching from 'uproot3' to 'uproot', since the new interface became the default in 2020.\n",
      "\n",
      "    pip install -U uproot\n",
      "\n",
      "In Python:\n",
      "\n",
      "    >>> import uproot\n",
      "    >>> with uproot.open(...) as file:\n",
      "    ...\n",
      "\n",
      "  warnings.warn(\n",
      "/cvmfs/sft.cern.ch/lcg/views/LCG_102swan/x86_64-centos7-gcc11-opt/lib/python3.9/site-packages/awkward0/__init__.py:12: FutureWarning: Consider switching from 'awkward0' to 'awkward', since the new interface became the default in 2020.\n",
      "\n",
      "    pip install -U awkward\n",
      "\n",
      "In Python:\n",
      "\n",
      "    >>> import awkward as ak\n",
      "    >>> new_style_array = ak.from_awkward0(old_style_array)\n",
      "    >>> old_style_array = ak.to_awkward0(new_style_array)\n",
      "\n",
      "  warnings.warn(\n"
     ]
    }
   ],
   "source": [
    "import uproot3 \n",
    "import numpy as np\n",
    "import pandas as pd\n",
    "from sklearn.model_selection import train_test_split\n",
    "from sklearn.metrics import classification_report, roc_curve, roc_auc_score\n",
    "import xgboost as xgb\n",
    "import matplotlib as mpl\n",
    "# mpl.use('Agg')\n",
    "import matplotlib.pyplot as plt\n",
    "\n",
    "import vector\n",
    "import awkward as ak  # at least version 1.2.0\n",
    "import numba as nb"
   ]
  },
  {
   "cell_type": "code",
   "execution_count": 6,
   "metadata": {},
   "outputs": [],
   "source": [
    "import seaborn as sns\n",
    "import scipy.stats as ss"
   ]
  },
  {
   "cell_type": "code",
   "execution_count": 7,
   "metadata": {},
   "outputs": [],
   "source": [
    "# loading the tree\n",
    "# tree = uproot3.open(\"/eos/user/q/qintong/SWAN_projects/Masters2021/MVAFILE_GluGluHToTauTauUncorrelatedDecay_Filtered_tt_2018.root\")[\"ntuple\"]\n",
    "# tree2 = uproot3.open(\"/eos/user/q/qintong/SWAN_projects/Masters2021/MVAFILE_VBFHToTauTauUncorrelatedDecay_Filtered_tt_2018.root\")[\"ntuple\"]\n",
    "\n",
    "tree = uproot3.open(\"/eos/user/q/qintong/SWAN_projects/Masters2021/1_test/MVAFILE_DYJetsToLL-LO_2018_tt_28.root\")[\"ntuple\"]\n",
    "#tree = uproot3.open(\"/eos/user/q/qintong/SWAN_projects/Masters2021/M2018_tt\")[\"ntuple\"]\n",
    "tree2 = uproot3.open(\"/eos/user/q/qintong/SWAN_projects/Masters2021/1_test/MVAFILE_VBFHToTauTauUncorrelatedDecay_Filtered_2018_tt_28.root\")[\"ntuple\"]"
   ]
  },
  {
   "cell_type": "code",
   "execution_count": 8,
   "metadata": {
    "scrolled": false
   },
   "outputs": [
    {
     "data": {
      "text/html": [
       "<div>\n",
       "<style scoped>\n",
       "    .dataframe tbody tr th:only-of-type {\n",
       "        vertical-align: middle;\n",
       "    }\n",
       "\n",
       "    .dataframe tbody tr th {\n",
       "        vertical-align: top;\n",
       "    }\n",
       "\n",
       "    .dataframe thead th {\n",
       "        text-align: right;\n",
       "    }\n",
       "</style>\n",
       "<table border=\"1\" class=\"dataframe\">\n",
       "  <thead>\n",
       "    <tr style=\"text-align: right;\">\n",
       "      <th></th>\n",
       "      <th>wt_cp_sm</th>\n",
       "      <th>wt_cp_ps</th>\n",
       "      <th>wt_cp_mm</th>\n",
       "      <th>rand</th>\n",
       "      <th>pi_px_1</th>\n",
       "      <th>pi_py_1</th>\n",
       "      <th>pi_pz_1</th>\n",
       "      <th>pi_E_1</th>\n",
       "      <th>pi2_px_1</th>\n",
       "      <th>pi2_py_1</th>\n",
       "      <th>...</th>\n",
       "      <th>aco_angle_2</th>\n",
       "      <th>costheta_1</th>\n",
       "      <th>costheta_tf_1</th>\n",
       "      <th>costheta_2</th>\n",
       "      <th>costheta_tf_2</th>\n",
       "      <th>q_1</th>\n",
       "      <th>q_2</th>\n",
       "      <th>pv_aco_angle</th>\n",
       "      <th>pv_lin_angle</th>\n",
       "      <th>pv_aco_angle_vis</th>\n",
       "    </tr>\n",
       "    <tr>\n",
       "      <th>entry</th>\n",
       "      <th></th>\n",
       "      <th></th>\n",
       "      <th></th>\n",
       "      <th></th>\n",
       "      <th></th>\n",
       "      <th></th>\n",
       "      <th></th>\n",
       "      <th></th>\n",
       "      <th></th>\n",
       "      <th></th>\n",
       "      <th></th>\n",
       "      <th></th>\n",
       "      <th></th>\n",
       "      <th></th>\n",
       "      <th></th>\n",
       "      <th></th>\n",
       "      <th></th>\n",
       "      <th></th>\n",
       "      <th></th>\n",
       "      <th></th>\n",
       "      <th></th>\n",
       "    </tr>\n",
       "  </thead>\n",
       "  <tbody>\n",
       "    <tr>\n",
       "      <th>0</th>\n",
       "      <td>1.178117</td>\n",
       "      <td>0.469322</td>\n",
       "      <td>1.551740</td>\n",
       "      <td>0.809754</td>\n",
       "      <td>12.695847</td>\n",
       "      <td>-14.127764</td>\n",
       "      <td>14.703622</td>\n",
       "      <td>24.020704</td>\n",
       "      <td>0.000000</td>\n",
       "      <td>0.000000</td>\n",
       "      <td>...</td>\n",
       "      <td>3.587369</td>\n",
       "      <td>0.998773</td>\n",
       "      <td>0.474542</td>\n",
       "      <td>-0.996127</td>\n",
       "      <td>-0.066669</td>\n",
       "      <td>-1</td>\n",
       "      <td>1</td>\n",
       "      <td>1.044855</td>\n",
       "      <td>0.120737</td>\n",
       "      <td>-9999.0</td>\n",
       "    </tr>\n",
       "    <tr>\n",
       "      <th>1</th>\n",
       "      <td>1.934401</td>\n",
       "      <td>0.171453</td>\n",
       "      <td>0.739471</td>\n",
       "      <td>0.900160</td>\n",
       "      <td>-38.606248</td>\n",
       "      <td>-2.893735</td>\n",
       "      <td>-13.799608</td>\n",
       "      <td>41.100666</td>\n",
       "      <td>0.000000</td>\n",
       "      <td>0.000000</td>\n",
       "      <td>...</td>\n",
       "      <td>9999.000000</td>\n",
       "      <td>0.999232</td>\n",
       "      <td>-0.174065</td>\n",
       "      <td>0.999723</td>\n",
       "      <td>0.911762</td>\n",
       "      <td>-1</td>\n",
       "      <td>1</td>\n",
       "      <td>5.947131</td>\n",
       "      <td>3.122923</td>\n",
       "      <td>-9999.0</td>\n",
       "    </tr>\n",
       "    <tr>\n",
       "      <th>2</th>\n",
       "      <td>0.903949</td>\n",
       "      <td>1.011742</td>\n",
       "      <td>1.914172</td>\n",
       "      <td>0.827759</td>\n",
       "      <td>4.293776</td>\n",
       "      <td>-0.009378</td>\n",
       "      <td>-2.551309</td>\n",
       "      <td>4.996525</td>\n",
       "      <td>0.000000</td>\n",
       "      <td>0.000000</td>\n",
       "      <td>...</td>\n",
       "      <td>9999.000000</td>\n",
       "      <td>0.999736</td>\n",
       "      <td>0.725211</td>\n",
       "      <td>0.999736</td>\n",
       "      <td>0.161688</td>\n",
       "      <td>-1</td>\n",
       "      <td>1</td>\n",
       "      <td>1.631002</td>\n",
       "      <td>3.108153</td>\n",
       "      <td>-9999.0</td>\n",
       "    </tr>\n",
       "    <tr>\n",
       "      <th>3</th>\n",
       "      <td>1.869492</td>\n",
       "      <td>1.863629</td>\n",
       "      <td>1.801810</td>\n",
       "      <td>0.241744</td>\n",
       "      <td>-2.941166</td>\n",
       "      <td>15.142976</td>\n",
       "      <td>-24.919539</td>\n",
       "      <td>29.308072</td>\n",
       "      <td>0.000000</td>\n",
       "      <td>0.000000</td>\n",
       "      <td>...</td>\n",
       "      <td>9999.000000</td>\n",
       "      <td>0.999974</td>\n",
       "      <td>0.689197</td>\n",
       "      <td>NaN</td>\n",
       "      <td>NaN</td>\n",
       "      <td>-1</td>\n",
       "      <td>1</td>\n",
       "      <td>NaN</td>\n",
       "      <td>NaN</td>\n",
       "      <td>-9999.0</td>\n",
       "    </tr>\n",
       "    <tr>\n",
       "      <th>4</th>\n",
       "      <td>0.976774</td>\n",
       "      <td>1.218468</td>\n",
       "      <td>1.933734</td>\n",
       "      <td>0.922341</td>\n",
       "      <td>3.178904</td>\n",
       "      <td>-54.824202</td>\n",
       "      <td>-38.179448</td>\n",
       "      <td>66.884140</td>\n",
       "      <td>0.000000</td>\n",
       "      <td>0.000000</td>\n",
       "      <td>...</td>\n",
       "      <td>9999.000000</td>\n",
       "      <td>0.999720</td>\n",
       "      <td>-0.060085</td>\n",
       "      <td>0.998743</td>\n",
       "      <td>-0.446049</td>\n",
       "      <td>-1</td>\n",
       "      <td>1</td>\n",
       "      <td>1.730715</td>\n",
       "      <td>3.082836</td>\n",
       "      <td>-9999.0</td>\n",
       "    </tr>\n",
       "    <tr>\n",
       "      <th>...</th>\n",
       "      <td>...</td>\n",
       "      <td>...</td>\n",
       "      <td>...</td>\n",
       "      <td>...</td>\n",
       "      <td>...</td>\n",
       "      <td>...</td>\n",
       "      <td>...</td>\n",
       "      <td>...</td>\n",
       "      <td>...</td>\n",
       "      <td>...</td>\n",
       "      <td>...</td>\n",
       "      <td>...</td>\n",
       "      <td>...</td>\n",
       "      <td>...</td>\n",
       "      <td>...</td>\n",
       "      <td>...</td>\n",
       "      <td>...</td>\n",
       "      <td>...</td>\n",
       "      <td>...</td>\n",
       "      <td>...</td>\n",
       "      <td>...</td>\n",
       "    </tr>\n",
       "    <tr>\n",
       "      <th>18684</th>\n",
       "      <td>1.888227</td>\n",
       "      <td>1.107123</td>\n",
       "      <td>1.811872</td>\n",
       "      <td>0.775297</td>\n",
       "      <td>-3.674501</td>\n",
       "      <td>-14.706136</td>\n",
       "      <td>4.429408</td>\n",
       "      <td>15.792768</td>\n",
       "      <td>-1.976414</td>\n",
       "      <td>-9.631377</td>\n",
       "      <td>...</td>\n",
       "      <td>9999.000000</td>\n",
       "      <td>0.999927</td>\n",
       "      <td>0.948803</td>\n",
       "      <td>-0.999629</td>\n",
       "      <td>-0.766824</td>\n",
       "      <td>1</td>\n",
       "      <td>-1</td>\n",
       "      <td>0.675623</td>\n",
       "      <td>0.037411</td>\n",
       "      <td>-9999.0</td>\n",
       "    </tr>\n",
       "    <tr>\n",
       "      <th>18685</th>\n",
       "      <td>0.045801</td>\n",
       "      <td>1.144370</td>\n",
       "      <td>0.804141</td>\n",
       "      <td>0.510265</td>\n",
       "      <td>-22.332202</td>\n",
       "      <td>-7.711140</td>\n",
       "      <td>12.247959</td>\n",
       "      <td>26.612420</td>\n",
       "      <td>0.000000</td>\n",
       "      <td>0.000000</td>\n",
       "      <td>...</td>\n",
       "      <td>4.839541</td>\n",
       "      <td>-0.999619</td>\n",
       "      <td>-0.405470</td>\n",
       "      <td>0.997810</td>\n",
       "      <td>0.589185</td>\n",
       "      <td>1</td>\n",
       "      <td>-1</td>\n",
       "      <td>1.272547</td>\n",
       "      <td>0.078853</td>\n",
       "      <td>-9999.0</td>\n",
       "    </tr>\n",
       "    <tr>\n",
       "      <th>18686</th>\n",
       "      <td>1.998883</td>\n",
       "      <td>1.618903</td>\n",
       "      <td>1.808742</td>\n",
       "      <td>0.179476</td>\n",
       "      <td>71.556994</td>\n",
       "      <td>-24.283660</td>\n",
       "      <td>-98.874493</td>\n",
       "      <td>124.443901</td>\n",
       "      <td>0.000000</td>\n",
       "      <td>0.000000</td>\n",
       "      <td>...</td>\n",
       "      <td>2.895988</td>\n",
       "      <td>0.999981</td>\n",
       "      <td>0.540555</td>\n",
       "      <td>-0.999933</td>\n",
       "      <td>-0.119859</td>\n",
       "      <td>-1</td>\n",
       "      <td>1</td>\n",
       "      <td>6.121637</td>\n",
       "      <td>0.017747</td>\n",
       "      <td>-9999.0</td>\n",
       "    </tr>\n",
       "    <tr>\n",
       "      <th>18687</th>\n",
       "      <td>0.777167</td>\n",
       "      <td>1.907112</td>\n",
       "      <td>1.064829</td>\n",
       "      <td>0.420715</td>\n",
       "      <td>20.677734</td>\n",
       "      <td>-2.468107</td>\n",
       "      <td>3.113787</td>\n",
       "      <td>21.056481</td>\n",
       "      <td>0.000000</td>\n",
       "      <td>0.000000</td>\n",
       "      <td>...</td>\n",
       "      <td>4.796827</td>\n",
       "      <td>0.997968</td>\n",
       "      <td>0.906131</td>\n",
       "      <td>0.999182</td>\n",
       "      <td>0.655016</td>\n",
       "      <td>-1</td>\n",
       "      <td>1</td>\n",
       "      <td>3.556649</td>\n",
       "      <td>3.039506</td>\n",
       "      <td>-9999.0</td>\n",
       "    </tr>\n",
       "    <tr>\n",
       "      <th>18688</th>\n",
       "      <td>1.495681</td>\n",
       "      <td>0.502176</td>\n",
       "      <td>0.133183</td>\n",
       "      <td>0.178797</td>\n",
       "      <td>-30.052412</td>\n",
       "      <td>-3.199101</td>\n",
       "      <td>-115.695957</td>\n",
       "      <td>119.578241</td>\n",
       "      <td>0.000000</td>\n",
       "      <td>0.000000</td>\n",
       "      <td>...</td>\n",
       "      <td>9999.000000</td>\n",
       "      <td>0.999605</td>\n",
       "      <td>-0.362209</td>\n",
       "      <td>0.999657</td>\n",
       "      <td>0.894172</td>\n",
       "      <td>-1</td>\n",
       "      <td>1</td>\n",
       "      <td>5.230323</td>\n",
       "      <td>3.114270</td>\n",
       "      <td>NaN</td>\n",
       "    </tr>\n",
       "  </tbody>\n",
       "</table>\n",
       "<p>18689 rows × 57 columns</p>\n",
       "</div>"
      ],
      "text/plain": [
       "       wt_cp_sm  wt_cp_ps  wt_cp_mm      rand    pi_px_1    pi_py_1  \\\n",
       "entry                                                                 \n",
       "0      1.178117  0.469322  1.551740  0.809754  12.695847 -14.127764   \n",
       "1      1.934401  0.171453  0.739471  0.900160 -38.606248  -2.893735   \n",
       "2      0.903949  1.011742  1.914172  0.827759   4.293776  -0.009378   \n",
       "3      1.869492  1.863629  1.801810  0.241744  -2.941166  15.142976   \n",
       "4      0.976774  1.218468  1.933734  0.922341   3.178904 -54.824202   \n",
       "...         ...       ...       ...       ...        ...        ...   \n",
       "18684  1.888227  1.107123  1.811872  0.775297  -3.674501 -14.706136   \n",
       "18685  0.045801  1.144370  0.804141  0.510265 -22.332202  -7.711140   \n",
       "18686  1.998883  1.618903  1.808742  0.179476  71.556994 -24.283660   \n",
       "18687  0.777167  1.907112  1.064829  0.420715  20.677734  -2.468107   \n",
       "18688  1.495681  0.502176  0.133183  0.178797 -30.052412  -3.199101   \n",
       "\n",
       "          pi_pz_1      pi_E_1  pi2_px_1  pi2_py_1  ...  aco_angle_2  \\\n",
       "entry                                              ...                \n",
       "0       14.703622   24.020704  0.000000  0.000000  ...     3.587369   \n",
       "1      -13.799608   41.100666  0.000000  0.000000  ...  9999.000000   \n",
       "2       -2.551309    4.996525  0.000000  0.000000  ...  9999.000000   \n",
       "3      -24.919539   29.308072  0.000000  0.000000  ...  9999.000000   \n",
       "4      -38.179448   66.884140  0.000000  0.000000  ...  9999.000000   \n",
       "...           ...         ...       ...       ...  ...          ...   \n",
       "18684    4.429408   15.792768 -1.976414 -9.631377  ...  9999.000000   \n",
       "18685   12.247959   26.612420  0.000000  0.000000  ...     4.839541   \n",
       "18686  -98.874493  124.443901  0.000000  0.000000  ...     2.895988   \n",
       "18687    3.113787   21.056481  0.000000  0.000000  ...     4.796827   \n",
       "18688 -115.695957  119.578241  0.000000  0.000000  ...  9999.000000   \n",
       "\n",
       "       costheta_1  costheta_tf_1  costheta_2  costheta_tf_2  q_1  q_2  \\\n",
       "entry                                                                   \n",
       "0        0.998773       0.474542   -0.996127      -0.066669   -1    1   \n",
       "1        0.999232      -0.174065    0.999723       0.911762   -1    1   \n",
       "2        0.999736       0.725211    0.999736       0.161688   -1    1   \n",
       "3        0.999974       0.689197         NaN            NaN   -1    1   \n",
       "4        0.999720      -0.060085    0.998743      -0.446049   -1    1   \n",
       "...           ...            ...         ...            ...  ...  ...   \n",
       "18684    0.999927       0.948803   -0.999629      -0.766824    1   -1   \n",
       "18685   -0.999619      -0.405470    0.997810       0.589185    1   -1   \n",
       "18686    0.999981       0.540555   -0.999933      -0.119859   -1    1   \n",
       "18687    0.997968       0.906131    0.999182       0.655016   -1    1   \n",
       "18688    0.999605      -0.362209    0.999657       0.894172   -1    1   \n",
       "\n",
       "       pv_aco_angle  pv_lin_angle  pv_aco_angle_vis  \n",
       "entry                                                \n",
       "0          1.044855      0.120737           -9999.0  \n",
       "1          5.947131      3.122923           -9999.0  \n",
       "2          1.631002      3.108153           -9999.0  \n",
       "3               NaN           NaN           -9999.0  \n",
       "4          1.730715      3.082836           -9999.0  \n",
       "...             ...           ...               ...  \n",
       "18684      0.675623      0.037411           -9999.0  \n",
       "18685      1.272547      0.078853           -9999.0  \n",
       "18686      6.121637      0.017747           -9999.0  \n",
       "18687      3.556649      3.039506           -9999.0  \n",
       "18688      5.230323      3.114270               NaN  \n",
       "\n",
       "[18689 rows x 57 columns]"
      ]
     },
     "execution_count": 8,
     "metadata": {},
     "output_type": "execute_result"
    }
   ],
   "source": [
    "# define what variables are to be read into the dataframe\n",
    "\n",
    "# variables = [  \"wt_cp_sm\", \"wt_cp_ps\", \"wt_cp_mm\",\n",
    "#                 \"rand\",\n",
    "#                 \"pt_1\",\"pt_2\",\n",
    "#                 \"met\",\n",
    "#                 \"aco_angle_1\", \"aco_angle_5\", \"aco_angle_7\", \"aco_angle_6\",\n",
    "#                 \"y_1_1\", \"y_1_2\",\n",
    "#                 \"ip_sig_1\", \"ip_sig_2\",\n",
    "#                 \"mva_dm_1\",\"mva_dm_2\",\n",
    "#                 \"tau_decay_mode_1\",\"tau_decay_mode_2\",\n",
    "#                 \"deepTauVsJets_medium_1\",\"deepTauVsJets_medium_2\",\n",
    "#                 \"deepTauVsEle_vvloose_1\",\"deepTauVsEle_vvloose_2\",\n",
    "#                 \"deepTauVsMu_vloose_1\",\"deepTauVsMu_vloose_2\",\n",
    "#                 \"trg_doubletau\",\n",
    "#              ]\n",
    "\n",
    "variables = [ 'wt_cp_sm', 'wt_cp_ps', 'wt_cp_mm','rand',\n",
    "            'pi_px_1', 'pi_py_1', 'pi_pz_1', 'pi_E_1',\n",
    "            'pi2_px_1', 'pi2_py_1', 'pi2_pz_1', 'pi2_E_1',\n",
    "            'pi3_px_1', 'pi3_py_1', 'pi3_pz_1', 'pi3_E_1', \n",
    "            'pi_px_2', 'pi_py_2', 'pi_pz_2', 'pi_E_2', \n",
    "            'pi2_px_2', 'pi2_py_2', 'pi2_pz_2', 'pi2_E_2', \n",
    "            'pi3_px_2', 'pi3_py_2', 'pi3_pz_2', 'pi3_E_2', \n",
    "            'pi0_px_1', 'pi0_py_1', 'pi0_pz_1', 'pi0_E_1', \n",
    "            'pi0_px_2', 'pi0_py_2', 'pi0_pz_2', 'pi0_E_2', \n",
    "            'nu_px_1', 'nu_py_1', 'nu_pz_1', 'nu_E_1', \n",
    "            'nu_px_2', 'nu_py_2', 'nu_pz_2', 'nu_E_2', \n",
    "            'dm_1', 'dm_2',\n",
    "#            'mass',\n",
    "             'aco_angle_1','aco_angle_2',\n",
    "             'costheta_1','costheta_tf_1',\n",
    "             'costheta_2','costheta_tf_2',\n",
    "             'q_1','q_2',\n",
    "             'pv_aco_angle','pv_lin_angle','pv_aco_angle_vis'\n",
    "             ]\n",
    "\n",
    "df1 = tree.pandas.df(variables)\n",
    "\n",
    "df2 = tree2.pandas.df(variables)\n",
    "\n",
    "#combine VBF and ggH events\n",
    "\n",
    "#df = pd.concat([df1,df2], ignore_index=True)\n",
    "#print('{0}\\n{1}\\n{2}\\n{3}'.format(A,B,C,D))\n",
    "#df2['mass']\n",
    "df2\n",
    "#df2['dm_1'],df2['dm_2'] = df2[\"tau_decay_mode_1\"],df2[\"tau_decay_mode_2\"]"
   ]
  },
  {
   "cell_type": "code",
   "execution_count": 9,
   "metadata": {},
   "outputs": [],
   "source": [
    "pi = (df1['dm_1']==0)&(df1['dm_2']==0)\n",
    "rho = (df1['dm_1']==1)&(df1['dm_2']==1)\n",
    "a1 = (df1['dm_1']==10)&(df1['dm_2']==10)\n",
    "\n",
    "pi2 = (df2['dm_1']==0)&(df2['dm_2']==0)\n",
    "rho2 = (df2['dm_1']==1)&(df2['dm_2']==1)\n",
    "a12 = (df2['dm_1']==10)&(df2['dm_2']==10)"
   ]
  },
  {
   "cell_type": "code",
   "execution_count": 10,
   "metadata": {},
   "outputs": [],
   "source": [
    "bins = 80\n",
    "r= (0.,6.)"
   ]
  },
  {
   "cell_type": "code",
   "execution_count": 11,
   "metadata": {},
   "outputs": [
    {
     "data": {
      "text/plain": [
       "<matplotlib.legend.Legend at 0x7f5f49ef00a0>"
      ]
     },
     "execution_count": 11,
     "metadata": {},
     "output_type": "execute_result"
    },
    {
     "data": {
      "image/png": "[encoded data removed]",
      "text/plain": [
       "<Figure size 576x1296 with 1 Axes>"
      ]
     },
     "metadata": {
      "needs_background": "light"
     },
     "output_type": "display_data"
    }
   ],
   "source": [
    "fig = plt.figure(figsize = (8,18))\n",
    "plt.subplot(311)\n",
    "plt.hist(df2[pi2]['aco_angle_1'],bins = bins,color='b',range=r,histtype=u'step',lw=2,weights=df2[pi2]['wt_cp_sm'],label='scalar',density = True)\n",
    "plt.hist(df2[pi2]['aco_angle_1'],bins = bins,color='r',range=r,histtype=u'step',lw=2,weights=df2[pi2]['wt_cp_ps'],label='pseudoscalar',density = True)\n",
    "plt.hist(df2[pi2]['aco_angle_1'],bins = bins,color='g',range=r,histtype=u'step',lw=2,weights=df2[pi2]['wt_cp_mm'],label='mix',density = True)\n",
    "plt.hist(df1[pi]['aco_angle_1'],bins = bins,color='k',range=r,histtype=u'step',lw=2,label='Drell-Yan',density = True,alpha = 0.5)\n",
    "\n",
    "plt.title('The normalised distribution of $\\phi_{CP}$ between the $\\\\tau$ lepton decay planes \\n in the H rest frame at the generator level')\n",
    "plt.legend()"
   ]
  },
  {
   "cell_type": "code",
   "execution_count": 12,
   "metadata": {},
   "outputs": [],
   "source": [
    "df_products = df2.iloc[:,0:32]\n",
    "df_select = df2.loc[(df_products != 0).any(axis=1)]\n",
    "df_select = df_select[(df_select['dm_1']<11)&(df_select['dm_2']<11)]\n",
    "# df_select = df_select[(df_select['gen_nu_py_2']!=-9999)&(df_select['gen_nu_py_2']!=-9999)]\n",
    "# df_select = df_select[(df_select['gen_nu_py_1']!=-9999)&(df_select['gen_nu_py_1']!=-9999)]\n",
    "\n",
    "#df_select = df_select[(df_select['gen_match_1']==5)&(df_select['gen_match_2']==5)]\n",
    "l = df_select.index.to_numpy()\n",
    "\n",
    "a = []\n",
    "b = []\n",
    "c = []\n",
    "\n",
    "for i in l:\n",
    "    a.append(df2['dm_1'][i]) \n",
    "    b.append(df2['dm_2'][i])\n",
    "\n",
    "# df_select['tau_1'],df_select['tau_2']= [a,b]\n",
    "# df_select['tau_2'] = b\n",
    "# df_select['mass'] = c\n",
    "#df_select[(df_select['dm_1']==1)&(df_select['dm_2']==1)].sort_values(by=['pv_aco_angle'])"
   ]
  },
  {
   "cell_type": "code",
   "execution_count": 13,
   "metadata": {},
   "outputs": [],
   "source": [
    "pis = (df_select['dm_1']==0)&(df_select['dm_2']==0)\n",
    "rhos = (df_select['dm_1']==1)&(df_select['dm_2']==1)\n",
    "a1s = (df_select['dm_1']==10)&(df_select['dm_2']==10)"
   ]
  },
  {
   "cell_type": "code",
   "execution_count": 14,
   "metadata": {
    "scrolled": false
   },
   "outputs": [
    {
     "data": {
      "text/plain": [
       "Text(0, 0.5, 'costheta_tf_2')"
      ]
     },
     "execution_count": 14,
     "metadata": {},
     "output_type": "execute_result"
    },
    {
     "data": {
      "image/png": "[encoded data removed]",
      "text/plain": [
       "<Figure size 1728x1080 with 2 Axes>"
      ]
     },
     "metadata": {
      "needs_background": "light"
     },
     "output_type": "display_data"
    }
   ],
   "source": [
    "f, axs = plt.subplots(figsize=(24,15))\n",
    "bins =25\n",
    "\n",
    "plt.subplot(231)\n",
    "plt.hist2d(df2[rhos]['costheta_tf_1'].values,df2[rhos]['costheta_tf_2'].values,bins, range = [[0.,1.],[0.,1.]],label = 'scalar')#,weights=(df2[pis]['wt_cp_sm']))#,density=True)\n",
    "# plt.subplot(232)\n",
    "# plt.hist2d(df2[pis]['costheta_tf_1'].to_numpy(),df2[pis]['costheta_tf_2'].to_numpy(),bins, range = [[0.,1.],[0.,1.]],label = 'pseudoscalar',weights=(df2[pis]['wt_cp_ps']))#,density=True)\n",
    "# plt.subplot(233)\n",
    "# plt.hist2d(df2[pis]['costheta_tf_1'].to_numpy(),df2[pis]['costheta_tf_2'].to_numpy(),bins, range = [[0.,1.],[0.,1.]],label = 'Mixed',weights=(df2[pis]['wt_cp_mm']))\n",
    "plt.subplot(234)\n",
    "plt.hist2d(df1[rho]['costheta_tf_1'].values,df1[rho]['costheta_tf_2'].values,bins, range = [[0.,1.],[0.,1.]],label = 'Drell-Yan')\n",
    "#n,bin,patches = plt.hist(df1['pv_aco_angle'].to_numpy(),bins = 10, range = (0.,6.),alpha=0.5,label = 'Drell-Yan')\n",
    "plt.title('2d distribution of costheta Higgs')\n",
    "plt.xlabel('costheta_tf_1')\n",
    "plt.ylabel('costheta_tf_2')"
   ]
  },
  {
   "cell_type": "code",
   "execution_count": 40,
   "metadata": {},
   "outputs": [],
   "source": [
    "def four_vectors(arg,decaymode):\n",
    "    pi_px =  pd.DataFrame(df_select[arg[0]].iloc[decaymode]).values\n",
    "    p0_px = pd.DataFrame(df_select[arg[8]].iloc[decaymode]).values\n",
    "    nu_px =  pd.DataFrame(df_select[arg[4]].iloc[decaymode]).values\n",
    "    rho_px = pi_px+p0_px\n",
    "    tau_px = pi_px+p0_px+nu_px\n",
    "\n",
    "    pi_py =  pd.DataFrame(df_select[arg[1]].iloc[decaymode]).values\n",
    "    p0_py = pd.DataFrame(df_select[arg[9]].iloc[decaymode]).values\n",
    "    nu_py =  pd.DataFrame(df_select[arg[5]].iloc[decaymode]).values\n",
    "    rho_py = pi_py+p0_py\n",
    "    tau_py = pi_py+p0_py+nu_py\n",
    "\n",
    "    pi_pz =  pd.DataFrame(df_select[arg[2]].iloc[decaymode]).values\n",
    "    p0_pz = pd.DataFrame(df_select[arg[10]].iloc[decaymode]).values\n",
    "    nu_pz =  pd.DataFrame(df_select[arg[6]].iloc[decaymode]).values\n",
    "    rho_pz = pi_pz+p0_pz\n",
    "    tau_pz = pi_pz+p0_pz+nu_pz\n",
    "    \n",
    "    pi_E = pd.DataFrame(df_select[arg[3]].iloc[decaymode]).values\n",
    "    p0_E = pd.DataFrame(df_select[arg[11]].iloc[decaymode]).values\n",
    "    nu_E = vector.obj(x=nu_px, y=nu_py, z=nu_pz).mag\n",
    "    rho_E = pi_E+p0_E\n",
    "    tau_E = pi_E+p0_E+nu_E\n",
    "    \n",
    "    pis = []\n",
    "    p0s = []\n",
    "    nus = []\n",
    "    rhos = []\n",
    "    tau = []\n",
    "    for i in range(len(pi_px)):\n",
    "        a = vector.obj(x = float(pi_px[i]), y = float(pi_py[i]), z = float(pi_pz[i]), E = float(pi_E[i]))\n",
    "        b = vector.obj(x = float(p0_px[i]), y = float(p0_py[i]), z = float(p0_pz[i]), E = float(p0_E[i]))\n",
    "        c = vector.obj(x = float(nu_px[i]), y = float(nu_py[i]), z = float(nu_pz[i]), E = float(nu_E[i]))\n",
    "        d = vector.obj(x = float(tau_px[i]), y = float(tau_py[i]), z = float(tau_pz[i]), E = float(tau_E[i]))\n",
    "        e = vector.obj(x = float(rho_px[i]), y = float(rho_py[i]), z = float(rho_pz[i]), E = float(rho_E[i]))\n",
    "        pis.append(a)\n",
    "        p0s.append(b)\n",
    "        nus.append(c)\n",
    "        tau.append(d)\n",
    "        rhos.append(e)\n",
    "    \n",
    "    return pis, p0s, nus, rhos, tau"
   ]
  },
  {
   "cell_type": "code",
   "execution_count": 17,
   "metadata": {},
   "outputs": [],
   "source": [
    "def four_vectors_pi_decay(arg,decaymode):\n",
    "    pi_px =  pd.DataFrame(df_select[arg[0]].iloc[decaymode]).values\n",
    "    nu_px =  pd.DataFrame(df_select[arg[4]].iloc[decaymode]).values\n",
    "    tau_px = pi_px+nu_px\n",
    "\n",
    "    pi_py =  pd.DataFrame(df_select[arg[1]].iloc[decaymode]).values\n",
    "    #p0_py = pd.DataFrame(X_test_inv_o[arg[9]].iloc[decaymode]).values\n",
    "    nu_py =  pd.DataFrame(df_select[arg[5]].iloc[decaymode]).values\n",
    "    tau_py = pi_py+nu_py\n",
    "\n",
    "    pi_pz =  pd.DataFrame(df_select[arg[2]].iloc[decaymode]).values\n",
    "    #p0_pz = pd.DataFrame(X_test_inv_o[arg[10]].iloc[decaymode]).values\n",
    "    nu_pz =  pd.DataFrame(df_select[arg[6]].iloc[decaymode]).values\n",
    "    tau_pz = pi_pz+nu_pz\n",
    "    \n",
    "    pi_E = pd.DataFrame(df_select[arg[3]].iloc[decaymode]).values\n",
    "    #p0_E = pd.DataFrame(X_test_inv_o[arg[11]].iloc[decaymode]).values\n",
    "    nu_E = pd.DataFrame(df_select[arg[7]].iloc[decaymode]).values\n",
    "    tau_E = pi_E+nu_E\n",
    "    \n",
    "    \n",
    "    pis = []\n",
    "    #p0s = []\n",
    "    nus = []\n",
    "    tau = []\n",
    "    for i in range(len(pi_px)):\n",
    "        a = vector.obj(x = np.float64(pi_px[i]), y = np.float64(pi_py[i]), z = np.float64(pi_pz[i]), E = np.float64(pi_E[i]))\n",
    "        #b = vector.obj(x = float(p0_px[i]), y = float(p0_py[i]), z = float(p0_pz[i]), E = float(p0_E[i]))\n",
    "        c = vector.obj(x = np.float64(nu_px[i]), y = np.float64(nu_py[i]), z = np.float64(nu_pz[i]), E = np.float64(nu_E[i]))\n",
    "        d = vector.obj(x = np.float64(tau_px[i]), y = np.float64(tau_py[i]), z = np.float64(tau_pz[i]), E = np.float64(tau_E[i]))\n",
    "        pis.append(a)\n",
    "        #p0s.append(b)\n",
    "        nus.append(c)\n",
    "        tau.append(d)\n",
    "    \n",
    "    return pis, nus, tau"
   ]
  },
  {
   "cell_type": "code",
   "execution_count": 18,
   "metadata": {},
   "outputs": [],
   "source": [
    "var_pv_pi_1 = ['pi_px_1','pi_py_1','pi_pz_1','pi_E_1',\n",
    "            'nu_px_1','nu_py_1','nu_pz_1','nu_E_1',]\n",
    "\n",
    "var_pv_pi_2 = ['pi_px_2','pi_py_2','pi_pz_2','pi_E_2',\n",
    "            'nu_px_2','nu_py_2','nu_pz_2','nu_E_2',]"
   ]
  },
  {
   "cell_type": "code",
   "execution_count": 19,
   "metadata": {},
   "outputs": [],
   "source": [
    "# index_name_pi_1 = df_select[(df_select['dm_1']==0)].index\n",
    "# index_name_rho_1 = df_select[(df_select['dm_1']==1)].index\n",
    "# index_name_a1_1 = df_select[(df_select['dm_1']==10)].index\n",
    "\n",
    "# index_name_pi_2 = df_select[(df_select['dm_2']==0)].index\n",
    "# index_name_rho_2 = df_select[(df_select['dm_2']==1)].index\n",
    "# index_name_a1_2 = df_select[(df_select['dm_2']==10)].index\n",
    "\n",
    "index_name_pi = df_select[(df_select['dm_1']==0)&(df_select['dm_2']==0)].index\n",
    "index_name_rho = df_select[(df_select['dm_1']==1)&(df_select['dm_2']==1)].index\n",
    "index_name_a1 = df_select[(df_select['dm_1']==10)&(df_select['dm_2']==10)].index"
   ]
  },
  {
   "cell_type": "code",
   "execution_count": 20,
   "metadata": {},
   "outputs": [],
   "source": [
    "pi_pi_1,nu_pi_1,tau_pi_1 = four_vectors_pi_decay(var_pv_pi_1,index_name_pi)\n",
    "pi_pi_2,nu_pi_2,tau_pi_2 = four_vectors_pi_decay(var_pv_pi_2,index_name_pi)"
   ]
  },
  {
   "cell_type": "code",
   "execution_count": 21,
   "metadata": {},
   "outputs": [],
   "source": [
    "var_pv_1 = ['pi_px_1','pi_py_1','pi_pz_1','pi_E_1',\n",
    "            'nu_px_1','nu_py_1','nu_pz_1','nu_E_1',\n",
    "            'pi0_px_1','pi0_py_1','pi0_pz_1','pi0_E_1']\n",
    "\n",
    "var_pv_2 = ['pi_px_2','pi_py_2','pi_pz_2','pi_E_2',\n",
    "            'nu_px_2','nu_py_2','nu_pz_2','nu_E_2',\n",
    "            'pi0_px_2','pi0_py_2','pi0_pz_2','pi0_E_2']"
   ]
  },
  {
   "cell_type": "code",
   "execution_count": 22,
   "metadata": {},
   "outputs": [],
   "source": [
    "# boost = vector.obj(px=tau_rho_1[0].px/tau_rho_1[0].E,py=tau_rho_1[0].py/tau_rho_1[0].E,pz=tau_rho_1[0].pz/tau_rho_1[0].E)\n",
    "# p = pi_rho_1[0].boost_beta3(-boost)\n",
    "# p"
   ]
  },
  {
   "cell_type": "code",
   "execution_count": 23,
   "metadata": {},
   "outputs": [],
   "source": [
    "# def IPAcoAngle(pv,undecayed_taus):#pi_p0_1, out_2, pi_pi_1, tau_pi_2)\n",
    "#     ang = []\n",
    "#     #dot = []\n",
    "#     for i in range(len(undecayed_taus[0])):\n",
    "#         b = undecayed_taus[0][i]+undecayed_taus[1][i]\n",
    "#         boost = vector.obj(px=b.px/b.E,py=b.py/b.E,pz=b.pz/b.E)\n",
    "#         p1_b = pv[0][i].boost(-boost)\n",
    "#         p2_b = pv[1][i].boost(-boost)\n",
    "#         p3_b = undecayed_taus[0][i].boost(-boost)\n",
    "#         p4_b = undecayed_taus[1][i].boost(-boost)\n",
    "\n",
    "#         n1 = p1_b - (p1_b.dot(p3_b/p3_b.mag))*(p3_b/p3_b.mag)\n",
    "#         n2 = p2_b - (p2_b.dot(p4_b/p4_b.mag))*(p4_b/p4_b.mag)\n",
    "\n",
    "#         n1 = n1/n1.mag\n",
    "#         n2 = n2/n2.mag\n",
    "\n",
    "#         sign = (p4_b/p4_b.mag).dot(n1.cross(n2))\n",
    "#         pva = np.arccos(n1.dot(n2))\n",
    "#         #dot.append(n1.dot(n2))\n",
    "#         if sign<0:\n",
    "#             ang.append(2*np.pi - pva)\n",
    "            \n",
    "#         else:\n",
    "#             ang.append(pva)\n",
    "        \n",
    "#     return ang"
   ]
  },
  {
   "cell_type": "code",
   "execution_count": 24,
   "metadata": {},
   "outputs": [],
   "source": [
    "# boost = vector.obj(px=tau_rho_1[20].px/tau_rho_1[20].E, py=tau_rho_1[20].py/tau_rho_1[20].E, pz=tau_rho_1[20].pz/tau_rho_1[20].E)\n",
    "# pi_d = pi_rho_1[20].boost_beta3(-boost)\n",
    "# p0_d = p0_rho_1[20].boost_beta3(-boost)\n",
    "# undecayed_tau_d = tau_rho_1[20].boost_beta3(-boost)\n",
    "\n",
    "# q = pi_d-p0_d\n",
    "# P = undecayed_tau_d\n",
    "# N = undecayed_tau_d-pi_d-p0_d\n",
    "# pv=P.mass*(2*(q.dot(N))*q - q.mag2*N)*(1/ (2*(q.dot(N))*(q.dot(P)) - q.mag2*(N.dot(P))))\n",
    "\n",
    "# pv"
   ]
  },
  {
   "cell_type": "code",
   "execution_count": 25,
   "metadata": {},
   "outputs": [],
   "source": [
    "# boost = vector.obj(px=tau_rho_1[1].px/tau_rho_1[1].E, py=tau_rho_1[1].py/tau_rho_1[1].E, pz=tau_rho_1[1].pz/tau_rho_1[1].E)\n",
    "# pi_d = pi_rho_1[1].boost_beta3(-boost)\n",
    "# p0_d = p0_rho_1[1].boost_beta3(-boost)\n",
    "# undecayed_tau_d = tau_rho_1[1].boost_beta3(-boost)\n",
    "\n",
    "# q = pi_d-p0_d\n",
    "# P = undecayed_tau_d\n",
    "# N = undecayed_tau_d-pi_d-p0_d\n",
    "# pv=P.mag*(2*(q.dot(N))*q - q.mag2*N)*(1/ (2*(q.dot(N))*(q.dot(P)) - q.mag2*(N.dot(P))))\n",
    "\n",
    "# undecayed_tau_d"
   ]
  },
  {
   "cell_type": "code",
   "execution_count": 26,
   "metadata": {},
   "outputs": [],
   "source": [
    "def PolarimetricVector(arg,undecayed_tau):\n",
    "    pv = []\n",
    "    for i in range(len(undecayed_tau)):\n",
    "        boost = vector.obj(px=undecayed_tau[i].px/undecayed_tau[i].E,py=undecayed_tau[i].py/undecayed_tau[i].E,pz=undecayed_tau[i].pz/undecayed_tau[i].E)\n",
    "        if len(arg) == 1:\n",
    "            ot = arg[0][i].boost_beta3(-boost).to_beta3()\n",
    "            pv_2 = vector.obj(px=ot.px,py=ot.py,pz=ot.pz,E=0)\n",
    "            pv_3 = pv_2.boost_beta3(boost)\n",
    "            pv.append(pv_3)\n",
    "            \n",
    "        elif len(arg) == 2:\n",
    "            pi_d = arg[0][i].boost_beta3(-boost)\n",
    "            p0_d = arg[1][i].boost_beta3(-boost)\n",
    "            undecayed_tau_d = undecayed_tau[i].boost_beta3(-boost)\n",
    "\n",
    "            q = pi_d-p0_d\n",
    "            P = undecayed_tau_d\n",
    "            N = undecayed_tau_d-pi_d-p0_d\n",
    "            pv_1 = P.mass*(2*(q.dot(N))*q.to_beta3() - q.mag2*N.to_beta3())*(1/ (2*(q.dot(N))*(q.dot(P)) - q.mag2*(N.dot(P))))\n",
    "            pv_2 = vector.obj(px=pv_1.px,py=pv_1.py,pz=pv_1.pz,E=0)\n",
    "            pv_3 = pv_2.boost_beta3(boost)\n",
    "            pv.append(pv_3)\n",
    "            \n",
    "        #else:\n",
    "            \n",
    "            \n",
    "        #         P.M()*(2*(q*N)*q.Vect() - q.Mag2()*N.Vect()) * (1/ (2*(q*N)*(q*P) - q.Mag2()*(N*P)))\n",
    "        #pv.append(P.mag*(2*(q.dot(N)*q))*(1/(2*(q.dot(N)*(q.dot(P))))))\n",
    "        #         P.M()*(2*(q*N)*q.Vect()) * (1/ (2*(q*N)*(q*P)))\n",
    "    return pv"
   ]
  },
  {
   "cell_type": "code",
   "execution_count": 93,
   "metadata": {},
   "outputs": [],
   "source": [
    "def PolarimetricVector_t(arg,undecayed_tau,n):\n",
    "    boost = vector.obj(px=undecayed_tau[n].px/undecayed_tau[n].E,py=undecayed_tau[n].py/undecayed_tau[n].E,pz=undecayed_tau[n].pz/undecayed_tau[n].E)\n",
    "    if len(arg) == 1:\n",
    "        ot = arg[0][n].boost_beta3(-boost).to_beta3()\n",
    "        pv_2 = vector.obj(px=ot.px,py=ot.py,pz=ot.pz,E=0)\n",
    "        pv_3 = pv_2.boost_beta3(boost)\n",
    "        pv=pv_3\n",
    "\n",
    "    elif len(arg) == 2:\n",
    "        pi_d = arg[0][n].boost_beta3(-boost)\n",
    "        p0_d = arg[1][n].boost_beta3(-boost)\n",
    "        undecayed_tau_d = undecayed_tau[n].boost_beta3(-boost)\n",
    "\n",
    "        q = pi_d-p0_d\n",
    "        P = undecayed_tau_d\n",
    "        N = undecayed_tau_d-pi_d-p0_d\n",
    "        pv_1 = P.mass*(2*(q.dot(N))*q.to_beta3() - q.mag2*N.to_beta3())*(1/ (2*(q.dot(N))*(q.dot(P)) - q.mag2*(N.dot(P))))\n",
    "        pv_2 = vector.obj(px=pv_1.px,py=pv_1.py,pz=pv_1.pz,E=0)\n",
    "        pv_3 = pv_2.boost_beta3(boost)\n",
    "        pv=pv_3\n",
    "            \n",
    "        #else:\n",
    "            \n",
    "            \n",
    "        #         P.M()*(2*(q*N)*q.Vect() - q.Mag2()*N.Vect()) * (1/ (2*(q*N)*(q*P) - q.Mag2()*(N*P)))\n",
    "        #pv.append(P.mag*(2*(q.dot(N)*q))*(1/(2*(q.dot(N)*(q.dot(P))))))\n",
    "        #         P.M()*(2*(q*N)*q.Vect()) * (1/ (2*(q*N)*(q*P)))\n",
    "    return pv"
   ]
  },
  {
   "cell_type": "code",
   "execution_count": 100,
   "metadata": {},
   "outputs": [],
   "source": [
    "t_1 = PolarimetricVector_t([pi_rho_1,p0_rho_1],tau_rho_1,10)\n",
    "#t_2 = PolarimetricVector_t([pi_rho_1,p0_rho_1],tau_rho_1,1)"
   ]
  },
  {
   "cell_type": "code",
   "execution_count": 101,
   "metadata": {},
   "outputs": [
    {
     "data": {
      "text/plain": [
       "vector.obj(px=11.635452962725537, py=3.868279553287053, pz=-10.710382062942529, E=15.22306672327096)"
      ]
     },
     "execution_count": 101,
     "metadata": {},
     "output_type": "execute_result"
    }
   ],
   "source": [
    "t_1"
   ]
  },
  {
   "cell_type": "code",
   "execution_count": 103,
   "metadata": {},
   "outputs": [
    {
     "data": {
      "text/plain": [
       "vector.obj(px=11.635452962725537, py=3.868279553287053, pz=-10.710382062942529, E=15.22306672327096)"
      ]
     },
     "execution_count": 103,
     "metadata": {},
     "output_type": "execute_result"
    }
   ],
   "source": [
    "pv_rho[0][10]"
   ]
  },
  {
   "cell_type": "code",
   "execution_count": 27,
   "metadata": {},
   "outputs": [],
   "source": [
    "#     } else if (pis.size()==3 && pi0s.size()==0) {\n",
    "#       std::vector<TLorentzVector> TauA1andProd;\n",
    "\n",
    "#       if(pis[1]->charge()==pis[2]->charge()) {\n",
    "#         TauA1andProd = {\n",
    "#           ConvertToLorentz(tau->vector()),\n",
    "#           ConvertToLorentz(pis[0]->vector()),\n",
    "#           ConvertToLorentz(pis[1]->vector()),\n",
    "#           ConvertToLorentz(pis[2]->vector())\n",
    "#         };\n",
    "#       } else if(pis[0]->charge()==pis[2]->charge()) {\n",
    "#         TauA1andProd = {\n",
    "#           ConvertToLorentz(tau->vector()),\n",
    "#           ConvertToLorentz(pis[1]->vector()),\n",
    "#           ConvertToLorentz(pis[0]->vector()),\n",
    "#           ConvertToLorentz(pis[2]->vector())\n",
    "#         };\n",
    "#       } else if(pis[0]->charge()==pis[1]->charge()) {\n",
    "#         TauA1andProd = {\n",
    "#           ConvertToLorentz(tau->vector()),\n",
    "#           ConvertToLorentz(pis[2]->vector()),\n",
    "#           ConvertToLorentz(pis[0]->vector()),\n",
    "#           ConvertToLorentz(pis[1]->vector())\n",
    "#         };\n",
    "#       }\n",
    "#       for (unsigned i=0; i<TauA1andProd.size(); ++i) TauA1andProd[i].Boost(-boost);\n",
    "#       PolarimetricA1  a1pol;\n",
    "#       a1pol.Configure(TauA1andProd,tau->charge());\n",
    "#       TLorentzVector l_out = -a1pol.PVC();\n",
    "#       l_out.Boost(boost);\n",
    "#       return l_out;"
   ]
  },
  {
   "cell_type": "code",
   "execution_count": 124,
   "metadata": {},
   "outputs": [],
   "source": [
    "def IPAcoAngle(pv,undecayed_taus):\n",
    "    #pi_p0_1, out_2, pi_pi_1, tau_pi_2):\n",
    "    ang = []\n",
    "    out = []\n",
    "    for i in range(len(undecayed_taus[0])):\n",
    "        b = undecayed_taus[0][i]+undecayed_taus[1][i]\n",
    "        boost = vector.obj(px=b.px/b.E,py=b.py/b.E,pz=b.pz/b.E)\n",
    "#         l_h1= PolarimetricVector(pis[0], pi0s[0], undecayed_taus[0])\n",
    "#         l_h2= PolarimetricVector(pis[1], pi0s[1], undecayed_taus[1])\n",
    "        l_h1= pv[0]\n",
    "        l_h2= pv[1]\n",
    "        l_tau_1 = undecayed_taus[0]\n",
    "        l_tau_2 = undecayed_taus[1]\n",
    "\n",
    "        p1_b = l_h1[i].boost_beta3(-boost)\n",
    "        p2_b = l_h2[i].boost_beta3(-boost)\n",
    "\n",
    "        p3_b = l_tau_1[i].boost_beta3(-boost)\n",
    "        p4_b = l_tau_2[i].boost_beta3(-boost)\n",
    "\n",
    "        h1 = p1_b.to_beta3()/p1_b.to_beta3().mag\n",
    "        h2 = p2_b.to_beta3()/p2_b.to_beta3().mag\n",
    "\n",
    "        n1 = p3_b.to_beta3()/p3_b.to_beta3().mag\n",
    "        n2 = p4_b.to_beta3()/p4_b.to_beta3().mag\n",
    "\n",
    "        k1 = (h1.cross(n1))/((h1.cross(n1)).mag)\n",
    "        k2 = (h2.cross(n2))/((h2.cross(n2)).mag)\n",
    "        \n",
    "        #out.append(h1)\n",
    "\n",
    "        # pv_lin_angle_ = acos(h1.Dot(h2))\n",
    "        pva = np.arccos(k1.dot(k2))\n",
    "        pv_sign = (h1.cross(h2)).dot(n1)\n",
    "\n",
    "        \n",
    "        if pv_sign>0:\n",
    "            ang.append(2*np.pi-pva)\n",
    "        else: \n",
    "            ang.append(pva)\n",
    "        \n",
    "        \n",
    "    return ang"
   ]
  },
  {
   "cell_type": "code",
   "execution_count": 135,
   "metadata": {},
   "outputs": [],
   "source": [
    "def IPAcoAngle_t(pv,undecayed_taus,i):\n",
    "    #pi_p0_1, out_2, pi_pi_1, tau_pi_2):\n",
    "\n",
    "    b = undecayed_taus[0][i]+undecayed_taus[1][i]\n",
    "    boost = vector.obj(px=b.px/b.E,py=b.py/b.E,pz=b.pz/b.E)\n",
    "#         l_h1= PolarimetricVector(pis[0], pi0s[0], undecayed_taus[0])\n",
    "#         l_h2= PolarimetricVector(pis[1], pi0s[1], undecayed_taus[1])\n",
    "    l_h1= pv[0]\n",
    "    l_h2= pv[1]\n",
    "    l_tau_1 = undecayed_taus[0]\n",
    "    l_tau_2 = undecayed_taus[1]\n",
    "\n",
    "    p1_b = l_h1[i].boost_beta3(-boost)\n",
    "    p2_b = l_h2[i].boost_beta3(-boost)\n",
    "\n",
    "    p3_b = l_tau_1[i].boost_beta3(-boost)\n",
    "    p4_b = l_tau_2[i].boost_beta3(-boost)\n",
    "\n",
    "    h1 = p1_b.to_beta3()/p1_b.to_beta3().mag\n",
    "    h2 = p2_b.to_beta3()/p2_b.to_beta3().mag\n",
    "\n",
    "    n1 = p3_b.to_beta3()/p3_b.to_beta3().mag\n",
    "    n2 = p4_b.to_beta3()/p4_b.to_beta3().mag\n",
    "\n",
    "    k1 = (h1.cross(n1))/((h1.cross(n1)).mag)\n",
    "    k2 = (h2.cross(n2))/((h2.cross(n2)).mag)\n",
    "\n",
    "    #out.append(h1)\n",
    "\n",
    "    # pv_lin_angle_ = acos(h1.Dot(h2))\n",
    "    pva = np.arccos(k1.dot(k2))\n",
    "    pv_sign = (h1.cross(h2)).dot(n1)\n",
    "\n",
    "\n",
    "    if pv_sign>0:\n",
    "        ang=2*np.pi-pva\n",
    "    else: \n",
    "        ang=pva\n",
    "            \n",
    "        \n",
    "    return ang"
   ]
  },
  {
   "cell_type": "code",
   "execution_count": 136,
   "metadata": {},
   "outputs": [],
   "source": [
    "rho_1_t = IPAcoAngle_t(pv_rho,tau_rho,10)"
   ]
  },
  {
   "cell_type": "code",
   "execution_count": 137,
   "metadata": {},
   "outputs": [
    {
     "data": {
      "text/plain": [
       "5.250214191247442"
      ]
     },
     "execution_count": 137,
     "metadata": {},
     "output_type": "execute_result"
    }
   ],
   "source": [
    "rho_1_t"
   ]
  },
  {
   "cell_type": "code",
   "execution_count": 134,
   "metadata": {},
   "outputs": [
    {
     "data": {
      "text/plain": [
       "5.250214191247442"
      ]
     },
     "execution_count": 134,
     "metadata": {},
     "output_type": "execute_result"
    }
   ],
   "source": [
    "a[10]"
   ]
  },
  {
   "cell_type": "code",
   "execution_count": 70,
   "metadata": {},
   "outputs": [],
   "source": [
    "def IPAcoAngle_vis_vis(pv,undecayed_taus,cp_sign_1,cp_sign_2):\n",
    "    #pi_p0_1, out_2, pi_pi_1, tau_pi_2):\n",
    "    ang = []\n",
    "    out = []\n",
    "    for i in range(len(undecayed_taus[0])):\n",
    "        b = undecayed_taus[0][i]+undecayed_taus[1][i]\n",
    "        boost = vector.obj(px=b.px/b.E,py=b.py/b.E,pz=b.pz/b.E)\n",
    "#         l_h1= PolarimetricVector(pis[0], pi0s[0], undecayed_taus[0])\n",
    "#         l_h2= PolarimetricVector(pis[1], pi0s[1], undecayed_taus[1])\n",
    "        l_h1= pv[0]\n",
    "        l_h2= pv[1]\n",
    "        l_tau_1 = undecayed_taus[0]\n",
    "        l_tau_2 = undecayed_taus[1]\n",
    "\n",
    "        p1_b = l_h1[i].boost_beta3(-boost)\n",
    "        p2_b = l_h2[i].boost_beta3(-boost)\n",
    "\n",
    "        p3_b = l_tau_1[i].boost_beta3(-boost)\n",
    "        p4_b = l_tau_2[i].boost_beta3(-boost)\n",
    "\n",
    "        h1 = p1_b.to_beta3()/p1_b.to_beta3().mag\n",
    "        h2 = p2_b.to_beta3()/p2_b.to_beta3().mag\n",
    "\n",
    "        n1 = p3_b.to_beta3()/p3_b.to_beta3().mag\n",
    "        n2 = p4_b.to_beta3()/p4_b.to_beta3().mag\n",
    "\n",
    "        k1 = (h1.cross(n1))/((h1.cross(n1)).mag)\n",
    "        k2 = (h2.cross(n2))/((h2.cross(n2)).mag)\n",
    "        \n",
    "        #out.append(h1)\n",
    "\n",
    "        # pv_lin_angle_ = acos(h1.Dot(h2))\n",
    "        pva = np.arccos(k1.dot(k2))\n",
    "        pv_sign = (h1.cross(h2)).dot(n1)\n",
    "        cp_sign = cp_sign_1[i]*cp_sign_2[i]\n",
    "        \n",
    "        if pv_sign>0:\n",
    "            pva_1 = 2*np.pi-pva\n",
    "        else: \n",
    "            pva_1 = pva\n",
    "            \n",
    "        if cp_sign<0:\n",
    "            if pva_1<np.pi:\n",
    "                ang.append(pva_1 + np.pi)\n",
    "            else:\n",
    "                ang.append(pva_1 - np.pi)\n",
    "        else:\n",
    "            ang.append(pva_1)\n",
    "        \n",
    "    return ang"
   ]
  },
  {
   "cell_type": "code",
   "execution_count": 71,
   "metadata": {},
   "outputs": [],
   "source": [
    "pi_rho_1,p0_rho_1,nu_rho_1,rho_rho_1,tau_rho_1 = four_vectors(var_pv_1,index_name_rho)\n",
    "pi_rho_2,p0_rho_2,nu_rho_2,rho_rho_2,tau_rho_2 = four_vectors(var_pv_2,index_name_rho)"
   ]
  },
  {
   "cell_type": "code",
   "execution_count": 72,
   "metadata": {},
   "outputs": [],
   "source": [
    "pv_pi_1 = PolarimetricVector([pi_pi_1],tau_pi_1)\n",
    "pv_pi_2 = PolarimetricVector([pi_pi_2],tau_pi_2)\n",
    "pv_rho_1 = PolarimetricVector([pi_rho_1,p0_rho_1],tau_rho_1)\n",
    "pv_rho_2 = PolarimetricVector([pi_rho_2,p0_rho_2],tau_rho_2)"
   ]
  },
  {
   "cell_type": "code",
   "execution_count": 73,
   "metadata": {},
   "outputs": [],
   "source": [
    "pi_rho = [pi_rho_1,pi_rho_2]\n",
    "p0_rho = [p0_rho_1,p0_rho_2]\n",
    "rho_rho = [rho_rho_1,rho_rho_2]\n",
    "tau_rho = [tau_rho_1,tau_rho_2]\n",
    "pv_rho = [pv_rho_1,pv_rho_2]\n",
    "\n",
    "pi_pi = [pi_pi_1,pi_pi_2]\n",
    "tau_pi = [tau_pi_1,tau_pi_2]\n",
    "pv_pi = [pv_pi_1,pv_pi_2]"
   ]
  },
  {
   "cell_type": "code",
   "execution_count": 125,
   "metadata": {},
   "outputs": [],
   "source": [
    "a= IPAcoAngle(pv_rho,tau_rho)\n",
    "#a_2= IPAcoAngle(pv_pi,tau_pi)"
   ]
  },
  {
   "cell_type": "code",
   "execution_count": 75,
   "metadata": {},
   "outputs": [],
   "source": [
    "def Yrho(pi,pi0,taus):\n",
    "    y_sign = []\n",
    "    for i in range(len(taus)):\n",
    "        E_pi = pi[i].E\n",
    "        E_pi0 = pi0[i].E\n",
    "        y = (E_pi-E_pi0)/(E_pi+E_pi0)\n",
    "        y_sign.append(y)\n",
    "    return y_sign\n",
    "    "
   ]
  },
  {
   "cell_type": "code",
   "execution_count": 76,
   "metadata": {},
   "outputs": [],
   "source": [
    "# cp_sign_pirho = Yrho(pi_rho_2_pirho,p0_rho_2_pirho,tau_rho_2_pirho)\n",
    "# cp_sign_rhopi = Yrho(pi_rho_1_rhopi,p0_rho_1_rhopi,tau_rho_1_rhopi)\n",
    "cp_sign_rho_1 = Yrho(pi_rho_1,p0_rho_1,tau_rho_1)\n",
    "cp_sign_rho_2 = Yrho(pi_rho_2,p0_rho_2,tau_rho_2)"
   ]
  },
  {
   "cell_type": "code",
   "execution_count": 77,
   "metadata": {},
   "outputs": [],
   "source": [
    "v_r = IPAcoAngle_vis_vis(rho_rho,tau_rho,cp_sign_rho_1,cp_sign_rho_2)"
   ]
  },
  {
   "cell_type": "code",
   "execution_count": 126,
   "metadata": {},
   "outputs": [],
   "source": [
    "df_new_2 = df_select.loc[index_name_rho]\n",
    "df_new_2['computed_pv_angle'] = a\n",
    "df_sorted_2 = df_new_2[['computed_pv_angle','pv_aco_angle','wt_cp_sm', 'wt_cp_ps', 'wt_cp_mm']].sort_values(by=['pv_aco_angle'])\n",
    "b = df_new_2.sort_values(by=['computed_pv_angle'])['computed_pv_angle'].values\n",
    "\n",
    "df_sorted_2['sorted_pv_angle'] = b"
   ]
  },
  {
   "cell_type": "code",
   "execution_count": 86,
   "metadata": {},
   "outputs": [],
   "source": [
    "df_new_1 = df_select.loc[index_name_rho]\n",
    "df_new_1['computed_pv_angle'] = v_r\n",
    "df_sorted_1 = df_new_1[['computed_pv_angle','pv_aco_angle','wt_cp_sm', 'wt_cp_ps', 'wt_cp_mm']].sort_values(by=['pv_aco_angle'])\n",
    "b1 = df_new_1.sort_values(by=['computed_pv_angle'])['computed_pv_angle'].values\n",
    "\n",
    "df_sorted_1['sorted_pv_angle'] = b1"
   ]
  },
  {
   "cell_type": "code",
   "execution_count": 147,
   "metadata": {},
   "outputs": [
    {
     "data": {
      "text/plain": [
       "<matplotlib.legend.Legend at 0x7f5ef3a7f5b0>"
      ]
     },
     "execution_count": 147,
     "metadata": {},
     "output_type": "execute_result"
    },
    {
     "data": {
      "image/png": "[encoded data removed]",
      "text/plain": [
       "<Figure size 576x1800 with 4 Axes>"
      ]
     },
     "metadata": {
      "needs_background": "light"
     },
     "output_type": "display_data"
    }
   ],
   "source": [
    "r = (0,2*np.pi)\n",
    "bins = 30\n",
    "\n",
    "# fig = plt.figure(figsize = (8,18))\n",
    "# plt.subplot(311)\n",
    "# plt.hist(df_sorted_2['sorted_pv_angle'],bins = bins,range=r,histtype=u'step',lw=2,weights=df_sorted_2['wt_cp_sm'],label='computed_scalar')\n",
    "# plt.hist(df_sorted_2['sorted_pv_angle'],bins = bins,range=r,histtype=u'step',lw=2,weights=df_sorted_2['wt_cp_ps'],label='computed_pseudoscalar')\n",
    "# #plt.hist(df_sorted_2['sorted_pv_angle'],bins = bins,range=r,histtype=u'step',lw=2,weights=df_sorted_2['wt_cp_mm'],label='computed_mix')\n",
    "# plt.title('computed Gen-level pv_angles for rho decays')\n",
    "# plt.legend()\n",
    "\n",
    "fig = plt.figure(figsize = (8,25))\n",
    "plt.subplot(411)\n",
    "n_sm_ml_rho,bins_sm_ml,p = plt.hist(df_sorted_2['sorted_pv_angle'],bins = bins,color = 'b',range=r,histtype=u'step',lw=2,weights=df_sorted_2['wt_cp_sm'],label='sorted_pv_scalar')\n",
    "n_ps_ml_rho,bins_ps_ml,p = plt.hist(df_sorted_2['sorted_pv_angle'],bins = bins,color = 'r',range=r,histtype=u'step',lw=2,weights=df_sorted_2['wt_cp_ps'],label='sorted_pv_pseudoscalar')\n",
    "ml_sep_rho = (1/bins)*(sum(abs(n_sm_ml_rho-n_ps_ml_rho)/(n_sm_ml_rho+n_ps_ml_rho)))\n",
    "#plt.hist(df_sorted_2['sorted_pv_angle'],bins = bins,range=r,histtype=u'step',lw=2,weights=df_sorted_2['wt_cp_mm'],label='computed_mix')\n",
    "plt.title('(sorted pv+pv)Gen-level pv_angles for rho decays\\n with average asymmetry = {0:.3f}'.format(ml_sep_rho))\n",
    "plt.legend()\n",
    "\n",
    "plt.subplot(412)\n",
    "n_sm_vis_rho,bins_sm_vis,p = plt.hist(df_sorted_1['sorted_pv_angle'],bins = bins,color = 'b',range=r,histtype=u'step',lw=2,weights=df_sorted_1['wt_cp_sm'],label='sorted_vis_scalar')\n",
    "n_ps_vis_rho,bins_sm_vis,p = plt.hist(df_sorted_1['sorted_pv_angle'],bins = bins,color = 'r',range=r,histtype=u'step',lw=2,weights=df_sorted_1['wt_cp_ps'],label='sorted_vis_pseudoscalar')\n",
    "#plt.hist(df_sorted_2['sorted_pv_angle'],bins = bins,range=r,histtype=u'step',lw=2,weights=df_sorted_2['wt_cp_mm'],label='computed_mix')\n",
    "vis_sep_rho = (1/bins)*(sum(abs(n_sm_vis_rho-n_ps_vis_rho)/(n_sm_vis_rho+n_ps_vis_rho)))\n",
    "plt.title('(sorted vis+vis)Gen-level pv_angles for rho decays\\n with average asymmetry = {0:.3f}'.format(vis_sep_rho))\n",
    "plt.legend()\n",
    "\n",
    "# plt.subplot(312)\n",
    "# plt.hist(df_new_2['computed_pv_angle'],bins = bins,range=r,histtype=u'step',label='computed',lw = 2)\n",
    "# plt.hist(df_select['pv_aco_angle'].iloc[index_name_pi],bins = bins, range = r,label = 'imported',histtype = u'step',lw = 2)\n",
    "# plt.title('imported and computed Gen-level pv_angles for pi decays')\n",
    "# plt.legend()\n",
    "\n",
    "plt.subplot(413)\n",
    "n_sm_im_rho,bins_sm_im,p = plt.hist(df_select['pv_aco_angle'].iloc[index_name_rho],bins = bins,color = 'b', range = r,label = 'imported_scalar',histtype = u'step',lw = 2,weights=df_select['wt_cp_sm'].iloc[index_name_rho])\n",
    "n_ps_im_rho,bins_sm_im,p = plt.hist(df_select['pv_aco_angle'].iloc[index_name_rho],bins = bins,color = 'r', range = r,label = 'imported_pseudoscalar',histtype = u'step',lw = 2,weights=df_select['wt_cp_ps'].iloc[index_name_rho])\n",
    "#plt.hist(df_select['pv_aco_angle'].iloc[index_name_pi],bins = bins, range = r,label = 'imported_mix',histtype = u'step',lw = 2,weights=df_select['wt_cp_mm'].iloc[index_name_pi])\n",
    "im_sep_rho = (1/bins)*(sum(abs(n_sm_im_rho-n_ps_im_rho)/(n_sm_im_rho+n_ps_im_rho)))\n",
    "plt.title('Imported Gen-level pv_angles for rho decays \\n with average asymmetry = {0:.3f}'.format(im_sep_rho))\n",
    "plt.legend()\n",
    "\n",
    "plt.subplot(414)\n",
    "plt.hist(a,bins = bins,range=r,color = 'b',histtype=u'step',lw=2,weights=df_select[rhos]['wt_cp_sm'],label='unsorted_pv_scalar')\n",
    "plt.hist(a,bins = bins,range=r,color = 'r',histtype=u'step',lw=2,weights=df_select[rhos]['wt_cp_ps'],label='unsorted_pv_pseudoscalar')\n",
    "#plt.hist(df_sorted_2['sorted_pv_angle'],bins = bins,range=r,histtype=u'step',lw=2,weights=df_sorted_2['wt_cp_mm'],label='computed_mix')\n",
    "plt.title('(unsorted pv+pv) Gen-level pv_angles for rho decays')\n",
    "plt.legend()"
   ]
  },
  {
   "cell_type": "code",
   "execution_count": null,
   "metadata": {},
   "outputs": [],
   "source": []
  },
  {
   "cell_type": "code",
   "execution_count": null,
   "metadata": {},
   "outputs": [],
   "source": []
  },
  {
   "cell_type": "code",
   "execution_count": null,
   "metadata": {},
   "outputs": [],
   "source": []
  },
  {
   "cell_type": "code",
   "execution_count": null,
   "metadata": {},
   "outputs": [],
   "source": []
  },
  {
   "cell_type": "code",
   "execution_count": null,
   "metadata": {},
   "outputs": [],
   "source": []
  },
  {
   "cell_type": "code",
   "execution_count": null,
   "metadata": {},
   "outputs": [],
   "source": []
  },
  {
   "cell_type": "code",
   "execution_count": null,
   "metadata": {},
   "outputs": [],
   "source": []
  },
  {
   "cell_type": "code",
   "execution_count": null,
   "metadata": {},
   "outputs": [],
   "source": []
  },
  {
   "cell_type": "code",
   "execution_count": null,
   "metadata": {},
   "outputs": [],
   "source": []
  }
 ],
 "metadata": {
  "kernelspec": {
   "display_name": "Python 3",
   "language": "python",
   "name": "python3"
  },
  "language_info": {
   "codemirror_mode": {
    "name": "ipython",
    "version": 3
   },
   "file_extension": ".py",
   "mimetype": "text/x-python",
   "name": "python",
   "nbconvert_exporter": "python",
   "pygments_lexer": "ipython3",
   "version": "3.9.12"
  }
 },
 "nbformat": 4,
 "nbformat_minor": 2
}
